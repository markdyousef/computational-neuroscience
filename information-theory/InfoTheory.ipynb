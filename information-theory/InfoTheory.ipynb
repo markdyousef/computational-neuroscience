{
 "cells": [
  {
   "cell_type": "code",
   "execution_count": 54,
   "metadata": {
    "collapsed": true
   },
   "outputs": [],
   "source": [
    "import pickle\n",
    "import matplotlib.pyplot as plt\n",
    "import numpy as np\n",
    "import math\n",
    "%matplotlib inline"
   ]
  },
  {
   "cell_type": "markdown",
   "metadata": {},
   "source": [
    "## Information Theory"
   ]
  },
  {
   "cell_type": "markdown",
   "metadata": {},
   "source": [
    "### What is the Entropy?"
   ]
  },
  {
   "cell_type": "markdown",
   "metadata": {},
   "source": [
    "A neuron will fire probability 0.1, yielding a Bernoulli distribution:\n",
    "\n",
    "$ P(F=1) = 0.1$"
   ]
  },
  {
   "cell_type": "markdown",
   "metadata": {},
   "source": [
    "Entropy: $H=-\\sum_{r}P[r]log_2 P[r]$"
   ]
  },
  {
   "cell_type": "code",
   "execution_count": 77,
   "metadata": {
    "collapsed": true
   },
   "outputs": [],
   "source": [
    "probs = np.array([0.9, 0.1])"
   ]
  },
  {
   "cell_type": "code",
   "execution_count": 78,
   "metadata": {},
   "outputs": [
    {
     "data": {
      "text/plain": [
       "0.46899559358928122"
      ]
     },
     "execution_count": 78,
     "metadata": {},
     "output_type": "execute_result"
    }
   ],
   "source": [
    "H = -np.sum(probs*np.log2(probs)); H"
   ]
  },
  {
   "cell_type": "markdown",
   "metadata": {},
   "source": [
    "### What is the Mutual Information?"
   ]
  },
  {
   "cell_type": "markdown",
   "metadata": {},
   "source": [
    "$$I_m=H-H_{noise}=-\\sum_{r}P[r]log_2 P[r]+\\sum_{s,r}P[s]P[r|s]log_2 P[r|s]$$\n",
    "\n",
    "$P(S=1)=0.10$\n",
    "\n",
    "$P(F=1|S=1)=1/2$\n",
    "\n",
    "$P(F=1|S=0)=1/18$\n"
   ]
  },
  {
   "cell_type": "code",
   "execution_count": 91,
   "metadata": {},
   "outputs": [],
   "source": [
    "probs_s = np.array([0.1, 0.1, 0.9, 0.9])\n",
    "probs_r = np.array([1/2, 1/2,1/18, 1-1/18])\n",
    "\n",
    "H_n = -np.sum(probs_s*probs_r*np.log2(probs_r))"
   ]
  },
  {
   "cell_type": "code",
   "execution_count": 92,
   "metadata": {},
   "outputs": [
    {
     "data": {
      "text/plain": [
       "0.090406507353988586"
      ]
     },
     "execution_count": 92,
     "metadata": {},
     "output_type": "execute_result"
    }
   ],
   "source": [
    "H-H_n"
   ]
  },
  {
   "cell_type": "code",
   "execution_count": 25,
   "metadata": {
    "collapsed": true
   },
   "outputs": [],
   "source": [
    "with open('./tuning_3.4.pickle', 'rb') as f:\n",
    "    data = pickle.load(f)"
   ]
  },
  {
   "cell_type": "markdown",
   "metadata": {},
   "source": [
    "4 different neurons has been probed with a range of air velocity stimuli of uniform intensity and differing direction.\n",
    "\n",
    "Firing rates of each of the neurons in response to each of the stimulus values is recorded. \n",
    "\n",
    "Each of these recordings lasted 10 seconds and we repeated this process 100 times for each neuron-stimulus combination.\n",
    "\n",
    "* The stimulus, that is, the direction of the air velocity, is in the vector named stim."
   ]
  },
  {
   "cell_type": "markdown",
   "metadata": {},
   "source": [
    "Each column of a neuron matrix contains the firing rate of that neuron (in Hz) in response to the corresponding stimulus value in stim. That is, nth column of neuron1 contains the 100 trials in which we applied the stimulus of value stim(n) to neuron1."
   ]
  },
  {
   "cell_type": "markdown",
   "metadata": {},
   "source": [
    "## What function best desribes the tuning curve?"
   ]
  },
  {
   "cell_type": "markdown",
   "metadata": {},
   "source": [
    "Plot the tuning curve-- the mean firing rate of the neuron as a function of the stimulus-- for each of the neurons."
   ]
  },
  {
   "cell_type": "code",
   "execution_count": 26,
   "metadata": {},
   "outputs": [
    {
     "data": {
      "image/png": "[encoded data removed]",
      "text/plain": [
       "<matplotlib.figure.Figure at 0x7f0c1c678b38>"
      ]
     },
     "metadata": {},
     "output_type": "display_data"
    }
   ],
   "source": [
    "plt.scatter(data['stim'], np.mean(data['neuron1'], axis=0))\n",
    "plt.scatter(data['stim'], np.mean(data['neuron2'], axis=0))\n",
    "plt.scatter(data['stim'], np.mean(data['neuron3'], axis=0))\n",
    "plt.scatter(data['stim'], np.mean(data['neuron4'], axis=0))\n",
    "plt.show()"
   ]
  },
  {
   "cell_type": "markdown",
   "metadata": {},
   "source": [
    "Answer: Half-wave rectified cosine"
   ]
  },
  {
   "cell_type": "markdown",
   "metadata": {},
   "source": [
    "## Which of the neurons (if any) is NOT a Poisson?"
   ]
  },
  {
   "cell_type": "code",
   "execution_count": 121,
   "metadata": {},
   "outputs": [
    {
     "data": {
      "text/plain": [
       "1.1"
      ]
     },
     "execution_count": 121,
     "metadata": {},
     "output_type": "execute_result"
    }
   ],
   "source": [
    "n1 = len([*filter(lambda x: x>0, np.mean(data['neuron1'], axis=0))])/10; n1"
   ]
  },
  {
   "cell_type": "code",
   "execution_count": 122,
   "metadata": {},
   "outputs": [
    {
     "data": {
      "text/plain": [
       "1.1"
      ]
     },
     "execution_count": 122,
     "metadata": {},
     "output_type": "execute_result"
    }
   ],
   "source": [
    "n2 = len([*filter(lambda x: x>0, np.mean(data['neuron2'], axis=0))])/10; n2"
   ]
  },
  {
   "cell_type": "code",
   "execution_count": 123,
   "metadata": {},
   "outputs": [
    {
     "data": {
      "text/plain": [
       "1.4"
      ]
     },
     "execution_count": 123,
     "metadata": {},
     "output_type": "execute_result"
    }
   ],
   "source": [
    "n3 = len([*filter(lambda x: x>0, np.mean(data['neuron3'], axis=0))])/10; n3"
   ]
  },
  {
   "cell_type": "code",
   "execution_count": 124,
   "metadata": {},
   "outputs": [
    {
     "data": {
      "text/plain": [
       "1.1"
      ]
     },
     "execution_count": 124,
     "metadata": {},
     "output_type": "execute_result"
    }
   ],
   "source": [
    "n4 = len([*filter(lambda x: x>0, np.mean(data['neuron4'], axis=0))])/10; n4"
   ]
  },
  {
   "cell_type": "markdown",
   "metadata": {},
   "source": [
    "Answer: Neuron 4"
   ]
  },
  {
   "cell_type": "code",
   "execution_count": 125,
   "metadata": {
    "collapsed": true
   },
   "outputs": [],
   "source": [
    "with open('./pop_coding_3.4.pickle', 'rb') as f:\n",
    "    pop_data = pickle.load(f)"
   ]
  },
  {
   "cell_type": "code",
   "execution_count": 133,
   "metadata": {},
   "outputs": [
    {
     "data": {
      "text/plain": [
       "{'c1': array([ 0.70710678,  0.70710678]),\n",
       " 'c2': array([ 0.70710678, -0.70710678]),\n",
       " 'c3': array([-0.70710678, -0.70710678]),\n",
       " 'c4': array([-0.70710678,  0.70710678]),\n",
       " 'r1': array([ 11.9,  12.8,  13.9,  12.1,  11.3,  12.2,  12.9,  12.4,  13.2,  10.7]),\n",
       " 'r2': array([ 18.8,  18. ,  19. ,  19.1,  18.1,  21.5,  20.3,  21.2,  18.6,  20.4]),\n",
       " 'r3': array([ 0.,  0.,  0.,  0.,  0.,  0.,  0.,  0.,  0.,  0.]),\n",
       " 'r4': array([ 0.,  0.,  0.,  0.,  0.,  0.,  0.,  0.,  0.,  0.])}"
      ]
     },
     "execution_count": 133,
     "metadata": {},
     "output_type": "execute_result"
    }
   ],
   "source": [
    "pop_data"
   ]
  },
  {
   "cell_type": "markdown",
   "metadata": {},
   "source": [
    "Additionally, each neuron has been exposed to a single stimulus of unknown direction for 10 trials of 10 seconds each. "
   ]
  },
  {
   "cell_type": "markdown",
   "metadata": {},
   "source": [
    "Decode the neural responses and recover the mystery stimulus vector by computing the population vector for these neurons. \n",
    "\n",
    "* use the maximum average firing rate (over any of the stimulus values in 'tuning') for a neuron as the value of rmax for that neuron. That is, rmax should be the maximum value in the tuning curve for that neuron."
   ]
  },
  {
   "cell_type": "markdown",
   "metadata": {},
   "source": [
    "What is the direction, in degrees, of the population vector? \n",
    "\n",
    "You should round your answer to the nearest degree. Your answer should contain the value only (no units!) and should be between 0∘ and 360∘. If your calculations give a negative number or a number greater than or equal to 360, convert it to a number in the proper range (you may use the mod function to do this)."
   ]
  },
  {
   "cell_type": "code",
   "execution_count": 134,
   "metadata": {},
   "outputs": [
    {
     "data": {
      "text/plain": [
       "array([ 2.75197833,  2.75197833])"
      ]
     },
     "execution_count": 134,
     "metadata": {},
     "output_type": "execute_result"
    }
   ],
   "source": [
    "v_1 = np.sum(pop_data['r1'] / np.max(np.mean(data['neuron1'], axis=0)))* pop_data['c1']; v_1"
   ]
  },
  {
   "cell_type": "code",
   "execution_count": 135,
   "metadata": {},
   "outputs": [
    {
     "data": {
      "text/plain": [
       "array([ 6.54448822, -6.54448822])"
      ]
     },
     "execution_count": 135,
     "metadata": {},
     "output_type": "execute_result"
    }
   ],
   "source": [
    "v_2 = np.sum(pop_data['r2'] / np.max(np.mean(data['neuron2'], axis=0)))* pop_data['c2']; v_2"
   ]
  },
  {
   "cell_type": "code",
   "execution_count": 129,
   "metadata": {},
   "outputs": [],
   "source": [
    "# np.sum(pop_data['r3'] / np.max(np.mean(data['neuron3'], axis=0)))* pop_data['c3']"
   ]
  },
  {
   "cell_type": "code",
   "execution_count": 130,
   "metadata": {},
   "outputs": [],
   "source": [
    "# np.sum(pop_data['r4'] / np.max(np.mean(data['neuron4'], axis=0)))* pop_data['c4']"
   ]
  },
  {
   "cell_type": "code",
   "execution_count": 149,
   "metadata": {},
   "outputs": [
    {
     "data": {
      "text/plain": [
       "array([ 4.64823327, -1.89625495])"
      ]
     },
     "execution_count": 149,
     "metadata": {},
     "output_type": "execute_result"
    }
   ],
   "source": [
    "coor = np.mean([v_1, v_2], axis=0); coor"
   ]
  },
  {
   "cell_type": "code",
   "execution_count": 159,
   "metadata": {},
   "outputs": [
    {
     "data": {
      "text/plain": [
       "359.61265750824663"
      ]
     },
     "execution_count": 159,
     "metadata": {},
     "output_type": "execute_result"
    }
   ],
   "source": [
    "np.arctan2(coor[1], coor[0]) % 360"
   ]
  },
  {
   "cell_type": "code",
   "execution_count": null,
   "metadata": {
    "collapsed": true
   },
   "outputs": [],
   "source": []
  }
 ],
 "metadata": {
  "kernelspec": {
   "display_name": "Python 3",
   "language": "python",
   "name": "python3"
  },
  "language_info": {
   "codemirror_mode": {
    "name": "ipython",
    "version": 3
   },
   "file_extension": ".py",
   "mimetype": "text/x-python",
   "name": "python",
   "nbconvert_exporter": "python",
   "pygments_lexer": "ipython3",
   "version": "3.6.1"
  }
 },
 "nbformat": 4,
 "nbformat_minor": 2
}
