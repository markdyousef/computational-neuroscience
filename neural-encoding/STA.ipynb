{
 "cells": [
  {
   "cell_type": "markdown",
   "metadata": {},
   "source": [
    "# Spike-Triggered Average"
   ]
  },
  {
   "cell_type": "code",
   "execution_count": 13,
   "metadata": {
    "collapsed": true
   },
   "outputs": [],
   "source": [
    "import numpy as np\n",
    "import matplotlib.pyplot as plt\n",
    "import pickle\n",
    "from jupyterthemes import jtplot\n",
    "jtplot.style(theme='monokai', ticks=True)\n",
    "%matplotlib inline"
   ]
  },
  {
   "cell_type": "code",
   "execution_count": 2,
   "metadata": {
    "collapsed": true
   },
   "outputs": [],
   "source": [
    "FILENAME = 'c1p8.pickle'"
   ]
  },
  {
   "cell_type": "code",
   "execution_count": 3,
   "metadata": {
    "collapsed": true
   },
   "outputs": [],
   "source": [
    "with open(FILENAME, 'rb') as f:\n",
    "    data = pickle.load(f)\n",
    "\n",
    "stim = data['stim']\n",
    "rho = data['rho']"
   ]
  },
  {
   "cell_type": "markdown",
   "metadata": {},
   "source": [
    "Stimulus: white-noise / Gaussian"
   ]
  },
  {
   "cell_type": "code",
   "execution_count": 4,
   "metadata": {},
   "outputs": [
    {
     "data": {
      "image/png": "[encoded data removed]",
      "text/plain": [
       "<matplotlib.figure.Figure at 0x7f4bef914400>"
      ]
     },
     "metadata": {},
     "output_type": "display_data"
    }
   ],
   "source": [
    "fig, ax = plt.subplots()\n",
    "ax.hist(stim, bins='auto')\n",
    "ax.set_title('Stimulus')\n",
    "plt.show()"
   ]
  },
  {
   "cell_type": "markdown",
   "metadata": {},
   "source": [
    "Sampling rate: 500 Hz"
   ]
  },
  {
   "cell_type": "markdown",
   "metadata": {},
   "source": [
    "How many ms are there between adjacent samples (sampling period)?\n",
    "\n",
    "$$ \\Delta t = 2ms$$"
   ]
  },
  {
   "cell_type": "code",
   "execution_count": 5,
   "metadata": {
    "collapsed": true
   },
   "outputs": [],
   "source": [
    "sampling_period = 2"
   ]
  },
  {
   "cell_type": "markdown",
   "metadata": {},
   "source": [
    "We wish to compute the spike-triggered average for this neuron over a **window of width 300 ms**. Suppose we do not care about the value exactly 300 ms before the spike. How many elements (time steps) will be in our resulting spike-triggered average vector?"
   ]
  },
  {
   "cell_type": "code",
   "execution_count": 6,
   "metadata": {
    "collapsed": true
   },
   "outputs": [],
   "source": [
    "window_size = 300"
   ]
  },
  {
   "cell_type": "code",
   "execution_count": 7,
   "metadata": {},
   "outputs": [
    {
     "data": {
      "text/plain": [
       "150"
      ]
     },
     "execution_count": 7,
     "metadata": {},
     "output_type": "execute_result"
    }
   ],
   "source": [
    "num_timesteps = int(window_size/2); num_timesteps"
   ]
  },
  {
   "cell_type": "markdown",
   "metadata": {},
   "source": [
    "In order to calculate the average, it is necessary for us to know how many time windows (stimulus vectors) we are averaging over. This is equal to the number of observed spikes. \n",
    "\n",
    "* How many spikes were observed in this recording? You should not count any spikes that occur before 300 ms from the beginning of the recording.\n",
    "\n",
    "*  spike-triggered average is the element-wise mean of the time windows starting 300 ms before (exclusive) and ending 0 ms before a spike. "
   ]
  },
  {
   "cell_type": "code",
   "execution_count": 8,
   "metadata": {
    "collapsed": true
   },
   "outputs": [],
   "source": [
    "def compute_sta(stim, rho, num_timesteps):\n",
    "    \"\"\"Compute the spike-triggered average from a stimulus and spike-train.\n",
    "    \n",
    "    Args:\n",
    "        stim: stimulus time-series\n",
    "        rho: spike-train time-series\n",
    "        num_timesteps: how many timesteps to use in STA\n",
    "        \n",
    "    Returns:\n",
    "        spike-triggered average for num_timesteps timesteps before spike\"\"\"\n",
    "    \n",
    "    sta = np.zeros((num_timesteps,))\n",
    "\n",
    "    # This command finds the indices of all of the spikes that occur\n",
    "    # after 300 ms into the recording.\n",
    "    spike_times = rho[num_timesteps:].nonzero()[0] + num_timesteps\n",
    "\n",
    "    # Fill in this value. Note that you should not count spikes that occur\n",
    "    # before 300 ms into the recording.\n",
    "    num_spikes = len(spike_times)\n",
    "    print(f'Number of spikes: M={num_spikes}')\n",
    "    # Compute the spike-triggered average of the spikes found.\n",
    "    # To do this, compute the average of all of the vectors\n",
    "    # starting 300 ms (exclusive) before a spike and ending at the time of\n",
    "    # the event (inclusive). Each of these vectors defines a list of\n",
    "    # samples that is contained within a window of 300 ms before each\n",
    "    # spike. The average of these vectors should be completed in an\n",
    "    # element-wise manner.\n",
    "    # \n",
    "    # Your code goes here.\n",
    "    for idx in spike_times:\n",
    "        sta += stim[idx-num_timesteps:idx]\n",
    "    sta /= num_spikes\n",
    "    return sta"
   ]
  },
  {
   "cell_type": "code",
   "execution_count": 9,
   "metadata": {},
   "outputs": [
    {
     "name": "stdout",
     "output_type": "stream",
     "text": [
      "Number of spikes: M=53583\n"
     ]
    }
   ],
   "source": [
    "sta = compute_sta(stim, rho, num_timesteps)"
   ]
  },
  {
   "cell_type": "code",
   "execution_count": 10,
   "metadata": {
    "collapsed": true
   },
   "outputs": [],
   "source": [
    "# We look backwards in time\n",
    "time = (np.arange(-num_timesteps, 0)+1) * sampling_period"
   ]
  },
  {
   "cell_type": "code",
   "execution_count": 12,
   "metadata": {},
   "outputs": [
    {
     "data": {
      "image/png": "[encoded data removed]",
      "text/plain": [
       "<matplotlib.figure.Figure at 0x7f4bebc46710>"
      ]
     },
     "metadata": {},
     "output_type": "display_data"
    }
   ],
   "source": [
    "plt.plot(time, sta)\n",
    "plt.xlabel('Time (ms)')\n",
    "plt.ylabel('Stimulus')\n",
    "plt.title('Spike-Triggered Average (STA)')\n",
    "plt.show()"
   ]
  },
  {
   "cell_type": "markdown",
   "metadata": {},
   "source": [
    "The nature of this neuron (the mathematical operation of the stimulus it computes) is a leaky integration.\n"
   ]
  },
  {
   "cell_type": "markdown",
   "metadata": {},
   "source": [
    "Assuming that all positive stimuli have a value of c and all negative stimuli have a value of −c where c>0 (All non-zero values have the same magnitude). The neuron is expected to respond most strongly to a constant positive value."
   ]
  }
 ],
 "metadata": {
  "kernelspec": {
   "display_name": "Python 3",
   "language": "python",
   "name": "python3"
  },
  "language_info": {
   "codemirror_mode": {
    "name": "ipython",
    "version": 3
   },
   "file_extension": ".py",
   "mimetype": "text/x-python",
   "name": "python",
   "nbconvert_exporter": "python",
   "pygments_lexer": "ipython3",
   "version": "3.6.1"
  }
 },
 "nbformat": 4,
 "nbformat_minor": 2
}
