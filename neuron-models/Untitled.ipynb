{
 "cells": [
  {
   "cell_type": "markdown",
   "metadata": {},
   "source": [
    "## Passive Neuronal Membrane (RC-circuit)"
   ]
  },
  {
   "cell_type": "code",
   "execution_count": 400,
   "metadata": {
    "collapsed": true
   },
   "outputs": [],
   "source": [
    "import numpy as np\n",
    "import matplotlib.pyplot as plt\n",
    "import math\n",
    "%matplotlib inline"
   ]
  },
  {
   "cell_type": "markdown",
   "metadata": {},
   "source": [
    "input current"
   ]
  },
  {
   "cell_type": "code",
   "execution_count": 2,
   "metadata": {
    "collapsed": true
   },
   "outputs": [],
   "source": [
    "I = 10 #nA"
   ]
  },
  {
   "cell_type": "markdown",
   "metadata": {},
   "source": [
    "capacitance and leak resistance"
   ]
  },
  {
   "cell_type": "code",
   "execution_count": 3,
   "metadata": {
    "collapsed": true
   },
   "outputs": [],
   "source": [
    "C = 0.1 #nF\n",
    "R = 100 #M ohms\n",
    "tau = R*C #ms"
   ]
  },
  {
   "cell_type": "markdown",
   "metadata": {},
   "source": [
    "membrane potential $\\frac{dV}{dt}=-\\frac{V}{RC} + \\frac{I}{C}$"
   ]
  },
  {
   "cell_type": "code",
   "execution_count": 4,
   "metadata": {
    "collapsed": true
   },
   "outputs": [],
   "source": [
    "# tau = 0 #experimental (ms)"
   ]
  },
  {
   "cell_type": "code",
   "execution_count": 5,
   "metadata": {
    "collapsed": true
   },
   "outputs": [],
   "source": [
    "V = 0 #mV"
   ]
  },
  {
   "cell_type": "code",
   "execution_count": 6,
   "metadata": {
    "collapsed": true
   },
   "outputs": [],
   "source": [
    "def plot(I, C, R, tau, V):\n",
    "    V_inf = I*R # peak V (in mV)\n",
    "    V_trace = [V] #mV\n",
    "    \n",
    "    tstop = 150 #ms\n",
    "    h = 0.2 # step size (ms)\n",
    "    for t in np.arange(h, tstop, h):\n",
    "        # Euler method: V(t+h) = V(t) + h*dV/dt\n",
    "        V = V + h*(-(V/(R*C))+I/C)\n",
    "\n",
    "        # verify membrane time constant\n",
    "        if (not tau and (V>0.6321*V_inf)):\n",
    "            tau = t\n",
    "            print('tau = %.3f ms'%tau)\n",
    "\n",
    "        # stop current injection\n",
    "        if t >= 0.6*tstop:\n",
    "            I=0\n",
    "\n",
    "        V_trace += [V]\n",
    "        if t % 10 == 0:\n",
    "            plt.plot(np.arange(0, t+h, h), V_trace, color='r')\n",
    "            plt.xlim(0, tstop)\n",
    "            plt.ylim(0, V_inf)\n",
    "            plt.draw()\n",
    "\n",
    "    plt.show()"
   ]
  },
  {
   "cell_type": "code",
   "execution_count": 7,
   "metadata": {},
   "outputs": [
    {
     "data": {
      "image/png": "[encoded data removed]",
      "text/plain": [
       "<matplotlib.figure.Figure at 0x7fc86fc19ac8>"
      ]
     },
     "metadata": {},
     "output_type": "display_data"
    }
   ],
   "source": [
    "plot(I, C, R, tau, V)"
   ]
  },
  {
   "cell_type": "markdown",
   "metadata": {},
   "source": [
    "The code demonstrates how a membrane responds to a constant current input, that is tured in for a fixed time interval and then turned off."
   ]
  },
  {
   "cell_type": "markdown",
   "metadata": {},
   "source": [
    "** What if the current were not turned off? What would the steady state voltage of the membrane be**\n",
    "\n",
    "* $I*R = 10*100 = 1000$"
   ]
  },
  {
   "cell_type": "markdown",
   "metadata": {},
   "source": [
    "**Does it reach a stable value more quickly or more slowly after multiplying the resistance (R) by 5?**"
   ]
  },
  {
   "cell_type": "code",
   "execution_count": 8,
   "metadata": {},
   "outputs": [
    {
     "data": {
      "image/png": "[encoded data removed]",
      "text/plain": [
       "<matplotlib.figure.Figure at 0x7fc86c84e518>"
      ]
     },
     "metadata": {},
     "output_type": "display_data"
    }
   ],
   "source": [
    "plot(I, C, R*5, tau, V)"
   ]
  },
  {
   "cell_type": "markdown",
   "metadata": {},
   "source": [
    "* more slowly"
   ]
  },
  {
   "cell_type": "markdown",
   "metadata": {},
   "source": [
    "** Does it reach a stable value more quickly or more slowly after dividing the capacitor (C) by 10?**"
   ]
  },
  {
   "cell_type": "code",
   "execution_count": 9,
   "metadata": {},
   "outputs": [
    {
     "data": {
      "image/png": "[encoded data removed]",
      "text/plain": [
       "<matplotlib.figure.Figure at 0x7fc86c785c50>"
      ]
     },
     "metadata": {},
     "output_type": "display_data"
    }
   ],
   "source": [
    "plot(I, C/10, R, tau, V)"
   ]
  },
  {
   "cell_type": "markdown",
   "metadata": {},
   "source": [
    "* more quickly"
   ]
  },
  {
   "cell_type": "markdown",
   "metadata": {},
   "source": [
    "** ... after R*10 and C/10?**"
   ]
  },
  {
   "cell_type": "code",
   "execution_count": 10,
   "metadata": {},
   "outputs": [
    {
     "data": {
      "image/png": "[encoded data removed]",
      "text/plain": [
       "<matplotlib.figure.Figure at 0x7fc86c665b38>"
      ]
     },
     "metadata": {},
     "output_type": "display_data"
    }
   ],
   "source": [
    "plot(I, C/10, R*10, tau, V)"
   ]
  },
  {
   "cell_type": "markdown",
   "metadata": {},
   "source": [
    "* same rate"
   ]
  },
  {
   "cell_type": "markdown",
   "metadata": {},
   "source": [
    "## Integrate-and-fire neuron model"
   ]
  },
  {
   "cell_type": "markdown",
   "metadata": {},
   "source": [
    "input current"
   ]
  },
  {
   "cell_type": "code",
   "execution_count": 421,
   "metadata": {
    "collapsed": true
   },
   "outputs": [],
   "source": [
    "I = 0.25159 #nA"
   ]
  },
  {
   "cell_type": "markdown",
   "metadata": {},
   "source": [
    "capacitance and leak resistance"
   ]
  },
  {
   "cell_type": "code",
   "execution_count": 422,
   "metadata": {
    "collapsed": true
   },
   "outputs": [],
   "source": [
    "C = 1 #nF\n",
    "R = 40 #M ohms"
   ]
  },
  {
   "cell_type": "markdown",
   "metadata": {},
   "source": [
    "I&F implementation: $\\frac{dV}{dt} = - \\frac{V}{RC}+\\frac{I}{C}$\n",
    "\n",
    "using h=1 ms step size, Euler method"
   ]
  },
  {
   "cell_type": "code",
   "execution_count": 423,
   "metadata": {
    "collapsed": true
   },
   "outputs": [],
   "source": [
    "V = 0"
   ]
  },
  {
   "cell_type": "code",
   "execution_count": 424,
   "metadata": {
    "collapsed": true
   },
   "outputs": [],
   "source": [
    "tstop = 200\n",
    "abs_ref = 5 # absolute refractory period\n",
    "ref = 0 # absolute refractory period counter\n",
    "V_trace = [] # voltage trace for plotting\n",
    "V_th = 10 # spike threshold (nA)"
   ]
  },
  {
   "cell_type": "code",
   "execution_count": 425,
   "metadata": {},
   "outputs": [
    {
     "name": "stdout",
     "output_type": "stream",
     "text": [
      "0.0\n",
      "0.24847116931167187\n",
      "0.4908075635946144\n",
      "0.7271606509839754\n",
      "0.9576781598533177\n",
      "1.182504171149665\n",
      "1.4017792084487881\n",
      "1.6156403257870047\n",
      "1.824221193324422\n",
      "2.0276521808931327\n",
      "2.22606043948261\n",
      "2.419569980713207\n",
      "2.6083017543474636\n",
      "2.792373723887642\n",
      "2.9719009403067553\n",
      "3.1469956139591715\n",
      "3.31776718471574\n",
      "3.4843223903672684\n",
      "3.6467653333391215\n",
      "3.8051975457586233\n",
      "3.959718052915942\n",
      "4.110423435158119\n",
      "4.257407888254934\n",
      "4.40076328227432\n",
      "4.540579219004155\n",
      "4.676943087956289\n",
      "4.8099401209878385\n",
      "4.939653445573867\n",
      "5.066164136764771\n",
      "5.189551267860814\n",
      "5.309891959835524\n",
      "5.427261429538807\n",
      "5.541733036709928\n",
      "5.653378329829737\n",
      "5.762267090840793\n",
      "5.868467378763362\n",
      "5.9720455722345065\n",
      "6.073066410996901\n",
      "6.171593036363281\n",
      "6.267687030681813\n",
      "6.361408455827072\n",
      "6.4528158907406645\n",
      "6.541966468044977\n",
      "6.628915909752919\n",
      "6.713718562096006\n",
      "6.796427429492511\n",
      "6.877094207676959\n",
      "6.955769316011643\n",
      "7.032501929000362\n",
      "7.107340007024095\n",
      "7.18033032631779\n",
      "7.251518508207044\n",
      "7.320949047622911\n",
      "7.388665340912678\n",
      "7.454709712964006\n",
      "7.519123443659353\n",
      "7.581946793677249\n",
      "7.643219029656528\n",
      "7.702978448739257\n",
      "7.7612624025076995\n",
      "7.818107320330261\n",
      "7.873548732131042\n",
      "7.9276212905971875\n",
      "7.980358792837952\n",
      "8.031794201508985\n",
      "8.081959665415072\n",
      "8.130886539604179\n",
      "8.178605404965378\n",
      "8.225146087342898\n",
      "8.27053767617826\n",
      "8.314808542692099\n",
      "8.357986357617131\n",
      "8.400098108493241\n",
      "8.441170116535577\n",
      "8.481228053086177\n",
      "8.520296955659378\n",
      "8.558401243591089\n",
      "8.59556473330167\n",
      "8.631810653181962\n",
      "8.667161658111796\n",
      "8.701639843620024\n",
      "8.735266759694952\n",
      "8.768063424253773\n",
      "8.80005033627946\n",
      "8.831247488633291\n",
      "8.861674380551039\n",
      "8.891350029830635\n",
      "8.9202929847189\n",
      "8.948521335504816\n",
      "8.97605272582653\n",
      "9.002904363699221\n",
      "9.029093032270652\n",
      "9.054635100311192\n",
      "9.079546532444832\n",
      "9.103842899127594\n",
      "9.127539386379567\n",
      "9.150650805276667\n",
      "9.17319160120805\n",
      "9.195175862904934\n",
      "9.216617331246532\n",
      "9.23752940784853\n",
      "9.257925163439559\n",
      "9.277817346030794\n",
      "9.297218388883906\n",
      "9.31614041828223\n",
      "9.334595261110106\n",
      "9.35259445224506\n",
      "9.370149241767473\n",
      "9.387270601992254\n",
      "9.403969234326889\n",
      "9.420255575960176\n",
      "9.436139806385802\n",
      "9.451631853764857\n",
      "9.466741401131259\n",
      "9.481477892443975\n",
      "9.495850538489785\n",
      "9.509868322640338\n",
      "9.523540006467048\n",
      "9.536874135217355\n",
      "9.54987904315579\n",
      "9.562562858773164\n",
      "9.574933509867128\n",
      "9.586998728497313\n",
      "9.598766055818123\n",
      "9.610242846792191\n",
      "9.621436274787476\n",
      "9.632353336060854\n",
      "9.643000854131\n",
      "9.653385484043314\n",
      "9.663513716529538\n",
      "9.673391882064681\n",
      "9.683026154823764\n",
      "9.69242255654088\n",
      "9.701586960272985\n",
      "9.710525094070736\n",
      "9.719242544558718\n",
      "9.727744760427262\n",
      "9.736037055838057\n",
      "9.744124613745674\n",
      "9.752012489137076\n",
      "9.759705612191155\n",
      "9.767208791360252\n",
      "9.774526716375595\n",
      "9.781663961178541\n",
      "9.788624986779427\n",
      "9.795414144045852\n",
      "9.802035676422117\n",
      "9.808493722581504\n",
      "9.814792319013092\n",
      "9.820935402544684\n",
      "9.826926812803466\n",
      "9.832770294615884\n",
      "9.83846950034829\n",
      "9.844027992189798\n",
      "9.849449244378746\n",
      "9.854736645374235\n",
      "9.859893499974003\n",
      "9.864923031380044\n",
      "9.869828383213216\n",
      "9.874612621478093\n",
      "9.879278736479334\n",
      "9.883829644690708\n",
      "9.888268190577993\n",
      "9.892597148376852\n",
      "9.896819223826835\n",
      "9.900937055862533\n",
      "9.904953218263017\n",
      "9.908870221260525\n",
      "9.91269051310944\n",
      "9.916416481616526\n",
      "9.920050455633394\n",
      "9.923594706512098\n",
      "9.927051449524814\n",
      "9.930422845248449\n",
      "9.933711000915082\n",
      "9.93691797172904\n",
      "9.94004576215148\n",
      "9.943096327153231\n",
      "9.946071573436727\n",
      "9.948973360627747\n",
      "9.951803502437745\n",
      "9.954563767797481\n",
      "9.95725588196266\n",
      "9.959881527592271\n",
      "9.962442345800305\n",
      "9.964939937181503\n",
      "9.967375862811782\n",
      "9.969751645223957\n",
      "9.972068769359373\n",
      "9.974328683496045\n",
      "9.976532800153874\n",
      "9.978682496977521\n",
      "9.980779117597482\n",
      "9.98282397246989\n",
      "9.984818339695611\n",
      "9.98676346581908\n",
      "9.988660566607445\n",
      "9.990510827810454\n",
      "9.992315405901591\n",
      "9.994075428800905\n"
     ]
    },
    {
     "data": {
      "image/png": "[encoded data removed]",
      "text/plain": [
       "<matplotlib.figure.Figure at 0x7fc86c359860>"
      ]
     },
     "metadata": {},
     "output_type": "display_data"
    }
   ],
   "source": [
    "for t in range(tstop):\n",
    "    if not ref:\n",
    "        V = V - (V/(R*C)) + (I/C)\n",
    "    \n",
    "    else:\n",
    "        ref -= 1\n",
    "        V = 0.2*V_th # reset voltage\n",
    "    \n",
    "    if V > V_th:\n",
    "        V = 50 # emit spike\n",
    "        ref = abs_ref # set refractory counter\n",
    "    V_trace += [V]\n",
    "    print(0+(R*I)*(1-math.exp(-t/(R*C))))\n",
    "\n",
    "plt.plot(V_trace)\n",
    "plt.show()"
   ]
  },
  {
   "cell_type": "code",
   "execution_count": 418,
   "metadata": {},
   "outputs": [
    {
     "name": "stdout",
     "output_type": "stream",
     "text": [
      "8.847968677143804\n"
     ]
    }
   ],
   "source": []
  },
  {
   "cell_type": "markdown",
   "metadata": {},
   "source": [
    "## Neuron w/ async inputs"
   ]
  },
  {
   "cell_type": "markdown",
   "metadata": {},
   "source": [
    "input current"
   ]
  },
  {
   "cell_type": "code",
   "execution_count": 491,
   "metadata": {
    "collapsed": true
   },
   "outputs": [],
   "source": [
    "I = 1 #nA"
   ]
  },
  {
   "cell_type": "markdown",
   "metadata": {},
   "source": [
    "capacitance and leak resistance"
   ]
  },
  {
   "cell_type": "code",
   "execution_count": 492,
   "metadata": {
    "collapsed": true
   },
   "outputs": [],
   "source": [
    "C = 1 # nF\n",
    "R = 40 # M ohms"
   ]
  },
  {
   "cell_type": "markdown",
   "metadata": {},
   "source": [
    "I&F implementation: $\\frac{dV}{dt} = - \\frac{V}{RC}+\\frac{I}{C}$\n",
    "\n",
    "using h=1 ms step size, Euler method"
   ]
  },
  {
   "cell_type": "code",
   "execution_count": 493,
   "metadata": {
    "collapsed": true
   },
   "outputs": [],
   "source": [
    "V = 0\n",
    "tstop = 1000\n",
    "abs_ref = 5\n",
    "ref = 0\n",
    "V_trace = []\n",
    "V_th = 10\n",
    "spike_times = []"
   ]
  },
  {
   "cell_type": "code",
   "execution_count": 494,
   "metadata": {
    "collapsed": true
   },
   "outputs": [],
   "source": [
    "noise_amp = 4 # amplitude of added noise\n",
    "I += noise_amp*np.random.normal(0, 1, (tstop,)) # nA; Gaussian noise"
   ]
  },
  {
   "cell_type": "code",
   "execution_count": 495,
   "metadata": {},
   "outputs": [
    {
     "data": {
      "image/png": "[encoded data removed]",
      "text/plain": [
       "<matplotlib.figure.Figure at 0x7fc86c6151d0>"
      ]
     },
     "metadata": {},
     "output_type": "display_data"
    }
   ],
   "source": [
    "for t in range(tstop):\n",
    "    if not ref:\n",
    "        V = V - (V/(R*C)) + (I[t]/C)\n",
    "    else:\n",
    "        ref -= 1\n",
    "        V = 0.2 * V_th # reset voltage\n",
    "    if V > V_th:\n",
    "        V = 50 # emit spike\n",
    "        ref = abs_ref\n",
    "    V_trace += [V]\n",
    "\n",
    "plt.plot(V_trace)\n",
    "plt.show()"
   ]
  },
  {
   "cell_type": "code",
   "execution_count": 1,
   "metadata": {},
   "outputs": [
    {
     "ename": "NameError",
     "evalue": "name 'plt' is not defined",
     "output_type": "error",
     "traceback": [
      "\u001b[0;31m---------------------------------------------------------------------------\u001b[0m",
      "\u001b[0;31mNameError\u001b[0m                                 Traceback (most recent call last)",
      "\u001b[0;32m<ipython-input-1-9bf0b8f51676>\u001b[0m in \u001b[0;36m<module>\u001b[0;34m()\u001b[0m\n\u001b[0;32m----> 1\u001b[0;31m \u001b[0mplt\u001b[0m\u001b[0;34m.\u001b[0m\u001b[0mhist\u001b[0m\u001b[0;34m(\u001b[0m\u001b[0mV_trace\u001b[0m\u001b[0;34m)\u001b[0m\u001b[0;34m\u001b[0m\u001b[0m\n\u001b[0m\u001b[1;32m      2\u001b[0m \u001b[0mplt\u001b[0m\u001b[0;34m.\u001b[0m\u001b[0mshow\u001b[0m\u001b[0;34m(\u001b[0m\u001b[0;34m)\u001b[0m\u001b[0;34m\u001b[0m\u001b[0m\n",
      "\u001b[0;31mNameError\u001b[0m: name 'plt' is not defined"
     ]
    }
   ],
   "source": [
    "plt.hist(V_trace)\n",
    "plt.show()"
   ]
  },
  {
   "cell_type": "code",
   "execution_count": null,
   "metadata": {},
   "outputs": [],
   "source": []
  },
  {
   "cell_type": "code",
   "execution_count": null,
   "metadata": {},
   "outputs": [],
   "source": []
  },
  {
   "cell_type": "code",
   "execution_count": null,
   "metadata": {},
   "outputs": [],
   "source": []
  },
  {
   "cell_type": "code",
   "execution_count": null,
   "metadata": {
    "collapsed": true
   },
   "outputs": [],
   "source": []
  },
  {
   "cell_type": "code",
   "execution_count": null,
   "metadata": {
    "collapsed": true
   },
   "outputs": [],
   "source": []
  }
 ],
 "metadata": {
  "kernelspec": {
   "display_name": "Python 3",
   "language": "python",
   "name": "python3"
  },
  "language_info": {
   "codemirror_mode": {
    "name": "ipython",
    "version": 3
   },
   "file_extension": ".py",
   "mimetype": "text/x-python",
   "name": "python",
   "nbconvert_exporter": "python",
   "pygments_lexer": "ipython3",
   "version": "3.6.1"
  }
 },
 "nbformat": 4,
 "nbformat_minor": 2
}
